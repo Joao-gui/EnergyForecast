{
 "cells": [
  {
   "cell_type": "code",
   "execution_count": 61,
   "id": "192456b9",
   "metadata": {},
   "outputs": [],
   "source": [
    "# Import para visualizar as pastas\n",
    "import os\n",
    "import sys\n",
    "\n",
    "# Adiciona a pasta raiz do projeto ao path\n",
    "sys.path.append(os.path.abspath(os.path.join(os.getcwd(), \"..\")))\n",
    "from pathlib import Path"
   ]
  },
  {
   "cell_type": "code",
   "execution_count": 3,
   "id": "c6fe5330",
   "metadata": {},
   "outputs": [],
   "source": [
    "# import das bibliotecas utilizadas para exploração do dataframe\n",
    "from src.data.load_data import load_csv\n",
    "import matplotlib.pyplot as plt\n",
    "import pandas as pd\n",
    "import seaborn as sns"
   ]
  },
  {
   "cell_type": "code",
   "execution_count": 4,
   "id": "7c5ff714",
   "metadata": {},
   "outputs": [
    {
     "data": {
      "application/vnd.microsoft.datawrangler.viewer.v0+json": {
       "columns": [
        {
         "name": "index",
         "rawType": "int64",
         "type": "integer"
        },
        {
         "name": "Datetime",
         "rawType": "object",
         "type": "string"
        },
        {
         "name": "AEP_MW",
         "rawType": "float64",
         "type": "float"
        }
       ],
       "ref": "acb4d17f-9498-4725-8794-f9bd0e4c429c",
       "rows": [
        [
         "0",
         "2004-12-31 01:00:00",
         "13478.0"
        ],
        [
         "1",
         "2004-12-31 02:00:00",
         "12865.0"
        ],
        [
         "2",
         "2004-12-31 03:00:00",
         "12577.0"
        ],
        [
         "3",
         "2004-12-31 04:00:00",
         "12517.0"
        ],
        [
         "4",
         "2004-12-31 05:00:00",
         "12670.0"
        ],
        [
         "5",
         "2004-12-31 06:00:00",
         "13038.0"
        ],
        [
         "6",
         "2004-12-31 07:00:00",
         "13692.0"
        ],
        [
         "7",
         "2004-12-31 08:00:00",
         "14297.0"
        ],
        [
         "8",
         "2004-12-31 09:00:00",
         "14719.0"
        ],
        [
         "9",
         "2004-12-31 10:00:00",
         "14941.0"
        ],
        [
         "10",
         "2004-12-31 11:00:00",
         "15184.0"
        ],
        [
         "11",
         "2004-12-31 12:00:00",
         "15009.0"
        ],
        [
         "12",
         "2004-12-31 13:00:00",
         "14808.0"
        ],
        [
         "13",
         "2004-12-31 14:00:00",
         "14522.0"
        ],
        [
         "14",
         "2004-12-31 15:00:00",
         "14349.0"
        ],
        [
         "15",
         "2004-12-31 16:00:00",
         "14107.0"
        ],
        [
         "16",
         "2004-12-31 17:00:00",
         "14410.0"
        ],
        [
         "17",
         "2004-12-31 18:00:00",
         "15174.0"
        ],
        [
         "18",
         "2004-12-31 19:00:00",
         "15261.0"
        ],
        [
         "19",
         "2004-12-31 20:00:00",
         "14774.0"
        ],
        [
         "20",
         "2004-12-31 21:00:00",
         "14363.0"
        ],
        [
         "21",
         "2004-12-31 22:00:00",
         "14045.0"
        ],
        [
         "22",
         "2004-12-31 23:00:00",
         "13478.0"
        ],
        [
         "23",
         "2005-01-01 00:00:00",
         "12892.0"
        ],
        [
         "24",
         "2004-12-30 01:00:00",
         "14097.0"
        ],
        [
         "25",
         "2004-12-30 02:00:00",
         "13667.0"
        ],
        [
         "26",
         "2004-12-30 03:00:00",
         "13451.0"
        ],
        [
         "27",
         "2004-12-30 04:00:00",
         "13379.0"
        ],
        [
         "28",
         "2004-12-30 05:00:00",
         "13506.0"
        ],
        [
         "29",
         "2004-12-30 06:00:00",
         "14121.0"
        ],
        [
         "30",
         "2004-12-30 07:00:00",
         "15066.0"
        ],
        [
         "31",
         "2004-12-30 08:00:00",
         "15771.0"
        ],
        [
         "32",
         "2004-12-30 09:00:00",
         "16047.0"
        ],
        [
         "33",
         "2004-12-30 10:00:00",
         "16245.0"
        ],
        [
         "34",
         "2004-12-30 11:00:00",
         "16377.0"
        ],
        [
         "35",
         "2004-12-30 12:00:00",
         "16138.0"
        ],
        [
         "36",
         "2004-12-30 13:00:00",
         "15886.0"
        ],
        [
         "37",
         "2004-12-30 14:00:00",
         "15503.0"
        ],
        [
         "38",
         "2004-12-30 15:00:00",
         "15206.0"
        ],
        [
         "39",
         "2004-12-30 16:00:00",
         "15049.0"
        ],
        [
         "40",
         "2004-12-30 17:00:00",
         "15161.0"
        ],
        [
         "41",
         "2004-12-30 18:00:00",
         "16085.0"
        ],
        [
         "42",
         "2004-12-30 19:00:00",
         "16508.0"
        ],
        [
         "43",
         "2004-12-30 20:00:00",
         "16306.0"
        ],
        [
         "44",
         "2004-12-30 21:00:00",
         "16223.0"
        ],
        [
         "45",
         "2004-12-30 22:00:00",
         "15931.0"
        ],
        [
         "46",
         "2004-12-30 23:00:00",
         "15207.0"
        ],
        [
         "47",
         "2004-12-31 00:00:00",
         "14316.0"
        ],
        [
         "48",
         "2004-12-29 01:00:00",
         "15223.0"
        ],
        [
         "49",
         "2004-12-29 02:00:00",
         "14731.0"
        ]
       ],
       "shape": {
        "columns": 2,
        "rows": 121273
       }
      },
      "text/html": [
       "<div>\n",
       "<style scoped>\n",
       "    .dataframe tbody tr th:only-of-type {\n",
       "        vertical-align: middle;\n",
       "    }\n",
       "\n",
       "    .dataframe tbody tr th {\n",
       "        vertical-align: top;\n",
       "    }\n",
       "\n",
       "    .dataframe thead th {\n",
       "        text-align: right;\n",
       "    }\n",
       "</style>\n",
       "<table border=\"1\" class=\"dataframe\">\n",
       "  <thead>\n",
       "    <tr style=\"text-align: right;\">\n",
       "      <th></th>\n",
       "      <th>Datetime</th>\n",
       "      <th>AEP_MW</th>\n",
       "    </tr>\n",
       "  </thead>\n",
       "  <tbody>\n",
       "    <tr>\n",
       "      <th>0</th>\n",
       "      <td>2004-12-31 01:00:00</td>\n",
       "      <td>13478.0</td>\n",
       "    </tr>\n",
       "    <tr>\n",
       "      <th>1</th>\n",
       "      <td>2004-12-31 02:00:00</td>\n",
       "      <td>12865.0</td>\n",
       "    </tr>\n",
       "    <tr>\n",
       "      <th>2</th>\n",
       "      <td>2004-12-31 03:00:00</td>\n",
       "      <td>12577.0</td>\n",
       "    </tr>\n",
       "    <tr>\n",
       "      <th>3</th>\n",
       "      <td>2004-12-31 04:00:00</td>\n",
       "      <td>12517.0</td>\n",
       "    </tr>\n",
       "    <tr>\n",
       "      <th>4</th>\n",
       "      <td>2004-12-31 05:00:00</td>\n",
       "      <td>12670.0</td>\n",
       "    </tr>\n",
       "    <tr>\n",
       "      <th>...</th>\n",
       "      <td>...</td>\n",
       "      <td>...</td>\n",
       "    </tr>\n",
       "    <tr>\n",
       "      <th>121268</th>\n",
       "      <td>2018-01-01 20:00:00</td>\n",
       "      <td>21089.0</td>\n",
       "    </tr>\n",
       "    <tr>\n",
       "      <th>121269</th>\n",
       "      <td>2018-01-01 21:00:00</td>\n",
       "      <td>20999.0</td>\n",
       "    </tr>\n",
       "    <tr>\n",
       "      <th>121270</th>\n",
       "      <td>2018-01-01 22:00:00</td>\n",
       "      <td>20820.0</td>\n",
       "    </tr>\n",
       "    <tr>\n",
       "      <th>121271</th>\n",
       "      <td>2018-01-01 23:00:00</td>\n",
       "      <td>20415.0</td>\n",
       "    </tr>\n",
       "    <tr>\n",
       "      <th>121272</th>\n",
       "      <td>2018-01-02 00:00:00</td>\n",
       "      <td>19993.0</td>\n",
       "    </tr>\n",
       "  </tbody>\n",
       "</table>\n",
       "<p>121273 rows × 2 columns</p>\n",
       "</div>"
      ],
      "text/plain": [
       "                   Datetime   AEP_MW\n",
       "0       2004-12-31 01:00:00  13478.0\n",
       "1       2004-12-31 02:00:00  12865.0\n",
       "2       2004-12-31 03:00:00  12577.0\n",
       "3       2004-12-31 04:00:00  12517.0\n",
       "4       2004-12-31 05:00:00  12670.0\n",
       "...                     ...      ...\n",
       "121268  2018-01-01 20:00:00  21089.0\n",
       "121269  2018-01-01 21:00:00  20999.0\n",
       "121270  2018-01-01 22:00:00  20820.0\n",
       "121271  2018-01-01 23:00:00  20415.0\n",
       "121272  2018-01-02 00:00:00  19993.0\n",
       "\n",
       "[121273 rows x 2 columns]"
      ]
     },
     "metadata": {},
     "output_type": "display_data"
    }
   ],
   "source": [
    "df = load_csv()\n",
    "display(df)"
   ]
  },
  {
   "cell_type": "code",
   "execution_count": 7,
   "id": "45312af0",
   "metadata": {},
   "outputs": [
    {
     "name": "stdout",
     "output_type": "stream",
     "text": [
      "(121273, 2)\n"
     ]
    }
   ],
   "source": [
    "print(df.shape)"
   ]
  },
  {
   "cell_type": "code",
   "execution_count": 8,
   "id": "d1ef711c",
   "metadata": {},
   "outputs": [
    {
     "name": "stdout",
     "output_type": "stream",
     "text": [
      "              AEP_MW\n",
      "count  121273.000000\n",
      "mean    15499.513717\n",
      "std      2591.399065\n",
      "min      9581.000000\n",
      "25%     13630.000000\n",
      "50%     15310.000000\n",
      "75%     17200.000000\n",
      "max     25695.000000\n"
     ]
    }
   ],
   "source": [
    "print(df.describe())"
   ]
  },
  {
   "cell_type": "code",
   "execution_count": 9,
   "id": "697e40e8",
   "metadata": {},
   "outputs": [
    {
     "name": "stdout",
     "output_type": "stream",
     "text": [
      "Datetime    0\n",
      "AEP_MW      0\n",
      "dtype: int64\n"
     ]
    }
   ],
   "source": [
    "print(df.isna().sum())"
   ]
  },
  {
   "cell_type": "code",
   "execution_count": 10,
   "id": "5d145356",
   "metadata": {},
   "outputs": [
    {
     "name": "stdout",
     "output_type": "stream",
     "text": [
      "Datetime     object\n",
      "AEP_MW      float64\n",
      "dtype: object\n"
     ]
    }
   ],
   "source": [
    "print(df.dtypes)"
   ]
  },
  {
   "cell_type": "code",
   "execution_count": 11,
   "id": "15912cff",
   "metadata": {},
   "outputs": [],
   "source": [
    "df_datetime = df.copy()\n",
    "df_datetime['Datetime'] = pd.to_datetime(df_datetime['Datetime'])"
   ]
  },
  {
   "cell_type": "code",
   "execution_count": 12,
   "id": "80e629e5",
   "metadata": {},
   "outputs": [
    {
     "data": {
      "application/vnd.microsoft.datawrangler.viewer.v0+json": {
       "columns": [
        {
         "name": "index",
         "rawType": "int64",
         "type": "integer"
        },
        {
         "name": "Datetime",
         "rawType": "datetime64[ns]",
         "type": "datetime"
        },
        {
         "name": "AEP_MW",
         "rawType": "float64",
         "type": "float"
        }
       ],
       "ref": "b28a6bb7-a7fd-4b5f-a419-31680df2d670",
       "rows": [
        [
         "0",
         "2004-12-31 01:00:00",
         "13478.0"
        ],
        [
         "1",
         "2004-12-31 02:00:00",
         "12865.0"
        ],
        [
         "2",
         "2004-12-31 03:00:00",
         "12577.0"
        ],
        [
         "3",
         "2004-12-31 04:00:00",
         "12517.0"
        ],
        [
         "4",
         "2004-12-31 05:00:00",
         "12670.0"
        ],
        [
         "5",
         "2004-12-31 06:00:00",
         "13038.0"
        ],
        [
         "6",
         "2004-12-31 07:00:00",
         "13692.0"
        ],
        [
         "7",
         "2004-12-31 08:00:00",
         "14297.0"
        ],
        [
         "8",
         "2004-12-31 09:00:00",
         "14719.0"
        ],
        [
         "9",
         "2004-12-31 10:00:00",
         "14941.0"
        ],
        [
         "10",
         "2004-12-31 11:00:00",
         "15184.0"
        ],
        [
         "11",
         "2004-12-31 12:00:00",
         "15009.0"
        ],
        [
         "12",
         "2004-12-31 13:00:00",
         "14808.0"
        ],
        [
         "13",
         "2004-12-31 14:00:00",
         "14522.0"
        ],
        [
         "14",
         "2004-12-31 15:00:00",
         "14349.0"
        ],
        [
         "15",
         "2004-12-31 16:00:00",
         "14107.0"
        ],
        [
         "16",
         "2004-12-31 17:00:00",
         "14410.0"
        ],
        [
         "17",
         "2004-12-31 18:00:00",
         "15174.0"
        ],
        [
         "18",
         "2004-12-31 19:00:00",
         "15261.0"
        ],
        [
         "19",
         "2004-12-31 20:00:00",
         "14774.0"
        ],
        [
         "20",
         "2004-12-31 21:00:00",
         "14363.0"
        ],
        [
         "21",
         "2004-12-31 22:00:00",
         "14045.0"
        ],
        [
         "22",
         "2004-12-31 23:00:00",
         "13478.0"
        ],
        [
         "23",
         "2005-01-01 00:00:00",
         "12892.0"
        ],
        [
         "24",
         "2004-12-30 01:00:00",
         "14097.0"
        ],
        [
         "25",
         "2004-12-30 02:00:00",
         "13667.0"
        ],
        [
         "26",
         "2004-12-30 03:00:00",
         "13451.0"
        ],
        [
         "27",
         "2004-12-30 04:00:00",
         "13379.0"
        ],
        [
         "28",
         "2004-12-30 05:00:00",
         "13506.0"
        ],
        [
         "29",
         "2004-12-30 06:00:00",
         "14121.0"
        ],
        [
         "30",
         "2004-12-30 07:00:00",
         "15066.0"
        ],
        [
         "31",
         "2004-12-30 08:00:00",
         "15771.0"
        ],
        [
         "32",
         "2004-12-30 09:00:00",
         "16047.0"
        ],
        [
         "33",
         "2004-12-30 10:00:00",
         "16245.0"
        ],
        [
         "34",
         "2004-12-30 11:00:00",
         "16377.0"
        ],
        [
         "35",
         "2004-12-30 12:00:00",
         "16138.0"
        ],
        [
         "36",
         "2004-12-30 13:00:00",
         "15886.0"
        ],
        [
         "37",
         "2004-12-30 14:00:00",
         "15503.0"
        ],
        [
         "38",
         "2004-12-30 15:00:00",
         "15206.0"
        ],
        [
         "39",
         "2004-12-30 16:00:00",
         "15049.0"
        ],
        [
         "40",
         "2004-12-30 17:00:00",
         "15161.0"
        ],
        [
         "41",
         "2004-12-30 18:00:00",
         "16085.0"
        ],
        [
         "42",
         "2004-12-30 19:00:00",
         "16508.0"
        ],
        [
         "43",
         "2004-12-30 20:00:00",
         "16306.0"
        ],
        [
         "44",
         "2004-12-30 21:00:00",
         "16223.0"
        ],
        [
         "45",
         "2004-12-30 22:00:00",
         "15931.0"
        ],
        [
         "46",
         "2004-12-30 23:00:00",
         "15207.0"
        ],
        [
         "47",
         "2004-12-31 00:00:00",
         "14316.0"
        ],
        [
         "48",
         "2004-12-29 01:00:00",
         "15223.0"
        ],
        [
         "49",
         "2004-12-29 02:00:00",
         "14731.0"
        ]
       ],
       "shape": {
        "columns": 2,
        "rows": 121273
       }
      },
      "text/html": [
       "<div>\n",
       "<style scoped>\n",
       "    .dataframe tbody tr th:only-of-type {\n",
       "        vertical-align: middle;\n",
       "    }\n",
       "\n",
       "    .dataframe tbody tr th {\n",
       "        vertical-align: top;\n",
       "    }\n",
       "\n",
       "    .dataframe thead th {\n",
       "        text-align: right;\n",
       "    }\n",
       "</style>\n",
       "<table border=\"1\" class=\"dataframe\">\n",
       "  <thead>\n",
       "    <tr style=\"text-align: right;\">\n",
       "      <th></th>\n",
       "      <th>Datetime</th>\n",
       "      <th>AEP_MW</th>\n",
       "    </tr>\n",
       "  </thead>\n",
       "  <tbody>\n",
       "    <tr>\n",
       "      <th>0</th>\n",
       "      <td>2004-12-31 01:00:00</td>\n",
       "      <td>13478.0</td>\n",
       "    </tr>\n",
       "    <tr>\n",
       "      <th>1</th>\n",
       "      <td>2004-12-31 02:00:00</td>\n",
       "      <td>12865.0</td>\n",
       "    </tr>\n",
       "    <tr>\n",
       "      <th>2</th>\n",
       "      <td>2004-12-31 03:00:00</td>\n",
       "      <td>12577.0</td>\n",
       "    </tr>\n",
       "    <tr>\n",
       "      <th>3</th>\n",
       "      <td>2004-12-31 04:00:00</td>\n",
       "      <td>12517.0</td>\n",
       "    </tr>\n",
       "    <tr>\n",
       "      <th>4</th>\n",
       "      <td>2004-12-31 05:00:00</td>\n",
       "      <td>12670.0</td>\n",
       "    </tr>\n",
       "    <tr>\n",
       "      <th>...</th>\n",
       "      <td>...</td>\n",
       "      <td>...</td>\n",
       "    </tr>\n",
       "    <tr>\n",
       "      <th>121268</th>\n",
       "      <td>2018-01-01 20:00:00</td>\n",
       "      <td>21089.0</td>\n",
       "    </tr>\n",
       "    <tr>\n",
       "      <th>121269</th>\n",
       "      <td>2018-01-01 21:00:00</td>\n",
       "      <td>20999.0</td>\n",
       "    </tr>\n",
       "    <tr>\n",
       "      <th>121270</th>\n",
       "      <td>2018-01-01 22:00:00</td>\n",
       "      <td>20820.0</td>\n",
       "    </tr>\n",
       "    <tr>\n",
       "      <th>121271</th>\n",
       "      <td>2018-01-01 23:00:00</td>\n",
       "      <td>20415.0</td>\n",
       "    </tr>\n",
       "    <tr>\n",
       "      <th>121272</th>\n",
       "      <td>2018-01-02 00:00:00</td>\n",
       "      <td>19993.0</td>\n",
       "    </tr>\n",
       "  </tbody>\n",
       "</table>\n",
       "<p>121273 rows × 2 columns</p>\n",
       "</div>"
      ],
      "text/plain": [
       "                  Datetime   AEP_MW\n",
       "0      2004-12-31 01:00:00  13478.0\n",
       "1      2004-12-31 02:00:00  12865.0\n",
       "2      2004-12-31 03:00:00  12577.0\n",
       "3      2004-12-31 04:00:00  12517.0\n",
       "4      2004-12-31 05:00:00  12670.0\n",
       "...                    ...      ...\n",
       "121268 2018-01-01 20:00:00  21089.0\n",
       "121269 2018-01-01 21:00:00  20999.0\n",
       "121270 2018-01-01 22:00:00  20820.0\n",
       "121271 2018-01-01 23:00:00  20415.0\n",
       "121272 2018-01-02 00:00:00  19993.0\n",
       "\n",
       "[121273 rows x 2 columns]"
      ]
     },
     "metadata": {},
     "output_type": "display_data"
    }
   ],
   "source": [
    "display(df_datetime)"
   ]
  },
  {
   "cell_type": "code",
   "execution_count": 13,
   "id": "0de8879e",
   "metadata": {},
   "outputs": [
    {
     "name": "stdout",
     "output_type": "stream",
     "text": [
      "Datetime    datetime64[ns]\n",
      "AEP_MW             float64\n",
      "dtype: object\n"
     ]
    }
   ],
   "source": [
    "print(df_datetime.dtypes)"
   ]
  },
  {
   "cell_type": "code",
   "execution_count": 14,
   "id": "89eec658",
   "metadata": {},
   "outputs": [],
   "source": [
    "df_aep_mw = df['AEP_MW']"
   ]
  },
  {
   "cell_type": "code",
   "execution_count": 15,
   "id": "82f04854",
   "metadata": {},
   "outputs": [
    {
     "data": {
      "image/png": "[encoded data removed]",
      "text/plain": [
       "<Figure size 640x480 with 1 Axes>"
      ]
     },
     "metadata": {},
     "output_type": "display_data"
    }
   ],
   "source": [
    "ax = sns.boxplot(data=df_aep_mw)\n",
    "plt.tight_layout\n",
    "plt.show()"
   ]
  },
  {
   "cell_type": "code",
   "execution_count": 65,
   "id": "3063bf51",
   "metadata": {},
   "outputs": [],
   "source": [
    "df_date = df_datetime.sort_values(\"Datetime\")"
   ]
  },
  {
   "cell_type": "code",
   "execution_count": 66,
   "id": "ad89cf5f",
   "metadata": {},
   "outputs": [
    {
     "data": {
      "application/vnd.microsoft.datawrangler.viewer.v0+json": {
       "columns": [
        {
         "name": "index",
         "rawType": "int64",
         "type": "integer"
        },
        {
         "name": "Datetime",
         "rawType": "datetime64[ns]",
         "type": "datetime"
        },
        {
         "name": "AEP_MW",
         "rawType": "float64",
         "type": "float"
        }
       ],
       "ref": "8acd2116-1e72-450b-a994-1b83a990050c",
       "rows": [
        [
         "2183",
         "2004-10-01 01:00:00",
         "12379.0"
        ],
        [
         "2184",
         "2004-10-01 02:00:00",
         "11935.0"
        ],
        [
         "2185",
         "2004-10-01 03:00:00",
         "11692.0"
        ],
        [
         "2186",
         "2004-10-01 04:00:00",
         "11597.0"
        ],
        [
         "2187",
         "2004-10-01 05:00:00",
         "11681.0"
        ],
        [
         "2188",
         "2004-10-01 06:00:00",
         "12280.0"
        ],
        [
         "2189",
         "2004-10-01 07:00:00",
         "13692.0"
        ],
        [
         "2190",
         "2004-10-01 08:00:00",
         "14618.0"
        ],
        [
         "2191",
         "2004-10-01 09:00:00",
         "14903.0"
        ],
        [
         "2192",
         "2004-10-01 10:00:00",
         "15118.0"
        ],
        [
         "2193",
         "2004-10-01 11:00:00",
         "15242.0"
        ],
        [
         "2194",
         "2004-10-01 12:00:00",
         "15375.0"
        ],
        [
         "2195",
         "2004-10-01 13:00:00",
         "15404.0"
        ],
        [
         "2196",
         "2004-10-01 14:00:00",
         "15655.0"
        ],
        [
         "2197",
         "2004-10-01 15:00:00",
         "15739.0"
        ],
        [
         "2198",
         "2004-10-01 16:00:00",
         "15739.0"
        ],
        [
         "2199",
         "2004-10-01 17:00:00",
         "15644.0"
        ],
        [
         "2200",
         "2004-10-01 18:00:00",
         "15353.0"
        ],
        [
         "2201",
         "2004-10-01 19:00:00",
         "15034.0"
        ],
        [
         "2202",
         "2004-10-01 20:00:00",
         "15211.0"
        ],
        [
         "2203",
         "2004-10-01 21:00:00",
         "15349.0"
        ],
        [
         "2204",
         "2004-10-01 22:00:00",
         "14837.0"
        ],
        [
         "2205",
         "2004-10-01 23:00:00",
         "14067.0"
        ],
        [
         "2206",
         "2004-10-02 00:00:00",
         "13147.0"
        ],
        [
         "2159",
         "2004-10-02 01:00:00",
         "12260.0"
        ],
        [
         "2160",
         "2004-10-02 02:00:00",
         "11672.0"
        ],
        [
         "2161",
         "2004-10-02 03:00:00",
         "11352.0"
        ],
        [
         "2162",
         "2004-10-02 04:00:00",
         "11177.0"
        ],
        [
         "2163",
         "2004-10-02 05:00:00",
         "11142.0"
        ],
        [
         "2164",
         "2004-10-02 06:00:00",
         "11331.0"
        ],
        [
         "2165",
         "2004-10-02 07:00:00",
         "11866.0"
        ],
        [
         "2166",
         "2004-10-02 08:00:00",
         "12387.0"
        ],
        [
         "2167",
         "2004-10-02 09:00:00",
         "13144.0"
        ],
        [
         "2168",
         "2004-10-02 10:00:00",
         "13712.0"
        ],
        [
         "2169",
         "2004-10-02 11:00:00",
         "14082.0"
        ],
        [
         "2170",
         "2004-10-02 12:00:00",
         "14080.0"
        ],
        [
         "2171",
         "2004-10-02 13:00:00",
         "14056.0"
        ],
        [
         "2172",
         "2004-10-02 14:00:00",
         "13934.0"
        ],
        [
         "2173",
         "2004-10-02 15:00:00",
         "13758.0"
        ],
        [
         "2174",
         "2004-10-02 16:00:00",
         "13579.0"
        ],
        [
         "2175",
         "2004-10-02 17:00:00",
         "13620.0"
        ],
        [
         "2176",
         "2004-10-02 18:00:00",
         "13483.0"
        ],
        [
         "2177",
         "2004-10-02 19:00:00",
         "13379.0"
        ],
        [
         "2178",
         "2004-10-02 20:00:00",
         "13825.0"
        ],
        [
         "2179",
         "2004-10-02 21:00:00",
         "14056.0"
        ],
        [
         "2180",
         "2004-10-02 22:00:00",
         "14015.0"
        ],
        [
         "2181",
         "2004-10-02 23:00:00",
         "12940.0"
        ],
        [
         "2182",
         "2004-10-03 00:00:00",
         "12172.0"
        ],
        [
         "2135",
         "2004-10-03 01:00:00",
         "11443.0"
        ],
        [
         "2136",
         "2004-10-03 02:00:00",
         "10807.0"
        ]
       ],
       "shape": {
        "columns": 2,
        "rows": 121273
       }
      },
      "text/html": [
       "<div>\n",
       "<style scoped>\n",
       "    .dataframe tbody tr th:only-of-type {\n",
       "        vertical-align: middle;\n",
       "    }\n",
       "\n",
       "    .dataframe tbody tr th {\n",
       "        vertical-align: top;\n",
       "    }\n",
       "\n",
       "    .dataframe thead th {\n",
       "        text-align: right;\n",
       "    }\n",
       "</style>\n",
       "<table border=\"1\" class=\"dataframe\">\n",
       "  <thead>\n",
       "    <tr style=\"text-align: right;\">\n",
       "      <th></th>\n",
       "      <th>Datetime</th>\n",
       "      <th>AEP_MW</th>\n",
       "    </tr>\n",
       "  </thead>\n",
       "  <tbody>\n",
       "    <tr>\n",
       "      <th>2183</th>\n",
       "      <td>2004-10-01 01:00:00</td>\n",
       "      <td>12379.0</td>\n",
       "    </tr>\n",
       "    <tr>\n",
       "      <th>2184</th>\n",
       "      <td>2004-10-01 02:00:00</td>\n",
       "      <td>11935.0</td>\n",
       "    </tr>\n",
       "    <tr>\n",
       "      <th>2185</th>\n",
       "      <td>2004-10-01 03:00:00</td>\n",
       "      <td>11692.0</td>\n",
       "    </tr>\n",
       "    <tr>\n",
       "      <th>2186</th>\n",
       "      <td>2004-10-01 04:00:00</td>\n",
       "      <td>11597.0</td>\n",
       "    </tr>\n",
       "    <tr>\n",
       "      <th>2187</th>\n",
       "      <td>2004-10-01 05:00:00</td>\n",
       "      <td>11681.0</td>\n",
       "    </tr>\n",
       "    <tr>\n",
       "      <th>...</th>\n",
       "      <td>...</td>\n",
       "      <td>...</td>\n",
       "    </tr>\n",
       "    <tr>\n",
       "      <th>116157</th>\n",
       "      <td>2018-08-02 20:00:00</td>\n",
       "      <td>17673.0</td>\n",
       "    </tr>\n",
       "    <tr>\n",
       "      <th>116158</th>\n",
       "      <td>2018-08-02 21:00:00</td>\n",
       "      <td>17303.0</td>\n",
       "    </tr>\n",
       "    <tr>\n",
       "      <th>116159</th>\n",
       "      <td>2018-08-02 22:00:00</td>\n",
       "      <td>17001.0</td>\n",
       "    </tr>\n",
       "    <tr>\n",
       "      <th>116160</th>\n",
       "      <td>2018-08-02 23:00:00</td>\n",
       "      <td>15964.0</td>\n",
       "    </tr>\n",
       "    <tr>\n",
       "      <th>116161</th>\n",
       "      <td>2018-08-03 00:00:00</td>\n",
       "      <td>14809.0</td>\n",
       "    </tr>\n",
       "  </tbody>\n",
       "</table>\n",
       "<p>121273 rows × 2 columns</p>\n",
       "</div>"
      ],
      "text/plain": [
       "                  Datetime   AEP_MW\n",
       "2183   2004-10-01 01:00:00  12379.0\n",
       "2184   2004-10-01 02:00:00  11935.0\n",
       "2185   2004-10-01 03:00:00  11692.0\n",
       "2186   2004-10-01 04:00:00  11597.0\n",
       "2187   2004-10-01 05:00:00  11681.0\n",
       "...                    ...      ...\n",
       "116157 2018-08-02 20:00:00  17673.0\n",
       "116158 2018-08-02 21:00:00  17303.0\n",
       "116159 2018-08-02 22:00:00  17001.0\n",
       "116160 2018-08-02 23:00:00  15964.0\n",
       "116161 2018-08-03 00:00:00  14809.0\n",
       "\n",
       "[121273 rows x 2 columns]"
      ]
     },
     "metadata": {},
     "output_type": "display_data"
    }
   ],
   "source": [
    "display(df_date)"
   ]
  },
  {
   "cell_type": "markdown",
   "id": "9211446f",
   "metadata": {},
   "source": [
    "# Salvando Novo DF\n",
    "\n",
    "Salvando novo dataframe no caminha `data/processed`"
   ]
  },
  {
   "cell_type": "code",
   "execution_count": 72,
   "id": "be6a78ba",
   "metadata": {},
   "outputs": [],
   "source": [
    "# Salvar o DataFrame completo ajustado\n",
    "data_path = Path(\"../data/processed\")  # \"..\" sobe um nível para o root do projeto\n",
    "# Garantir que a pasta processed exista\n",
    "os.makedirs(data_path, exist_ok=True)\n",
    "df_date.to_csv(data_path/\"AEP_hourly_update.csv\", index=False)"
   ]
  },
  {
   "cell_type": "markdown",
   "id": "e718dc92",
   "metadata": {},
   "source": [
    "# 2004"
   ]
  },
  {
   "cell_type": "code",
   "execution_count": 74,
   "id": "f0c21eb0",
   "metadata": {},
   "outputs": [],
   "source": [
    "start_date_2004 = '2004-10-01 01:00:00'\n",
    "end_date_2004 = '2004-12-31 23:00:00'\n",
    "df_2004 = df_date[(df_date['Datetime'] >= start_date_2004) & (df_date['Datetime'] \n",
    "                    <= end_date_2004)].copy()\n",
    "\n",
    "# Salvar o DataFrame completo ajustado\n",
    "data_path = Path(\"../data/processed\")  # \"..\" sobe um nível para o root do projeto\n",
    "# Garantir que a pasta processed exista\n",
    "os.makedirs(data_path, exist_ok=True)\n",
    "df_2004.to_csv(data_path/\"AEP_2004.csv\", index=False)"
   ]
  },
  {
   "cell_type": "code",
   "execution_count": 40,
   "id": "154f813d",
   "metadata": {},
   "outputs": [
    {
     "data": {
      "application/vnd.microsoft.datawrangler.viewer.v0+json": {
       "columns": [
        {
         "name": "index",
         "rawType": "int64",
         "type": "integer"
        },
        {
         "name": "Datetime",
         "rawType": "datetime64[ns]",
         "type": "datetime"
        },
        {
         "name": "AEP_MW",
         "rawType": "float64",
         "type": "float"
        }
       ],
       "ref": "3a8aa06b-d348-4f91-b7ca-717b1303bb6c",
       "rows": [
        [
         "2183",
         "2004-10-01 01:00:00",
         "12379.0"
        ],
        [
         "2184",
         "2004-10-01 02:00:00",
         "11935.0"
        ],
        [
         "2185",
         "2004-10-01 03:00:00",
         "11692.0"
        ],
        [
         "2186",
         "2004-10-01 04:00:00",
         "11597.0"
        ],
        [
         "2187",
         "2004-10-01 05:00:00",
         "11681.0"
        ],
        [
         "2188",
         "2004-10-01 06:00:00",
         "12280.0"
        ],
        [
         "2189",
         "2004-10-01 07:00:00",
         "13692.0"
        ],
        [
         "2190",
         "2004-10-01 08:00:00",
         "14618.0"
        ],
        [
         "2191",
         "2004-10-01 09:00:00",
         "14903.0"
        ],
        [
         "2192",
         "2004-10-01 10:00:00",
         "15118.0"
        ],
        [
         "2193",
         "2004-10-01 11:00:00",
         "15242.0"
        ],
        [
         "2194",
         "2004-10-01 12:00:00",
         "15375.0"
        ],
        [
         "2195",
         "2004-10-01 13:00:00",
         "15404.0"
        ],
        [
         "2196",
         "2004-10-01 14:00:00",
         "15655.0"
        ],
        [
         "2197",
         "2004-10-01 15:00:00",
         "15739.0"
        ],
        [
         "2198",
         "2004-10-01 16:00:00",
         "15739.0"
        ],
        [
         "2199",
         "2004-10-01 17:00:00",
         "15644.0"
        ],
        [
         "2200",
         "2004-10-01 18:00:00",
         "15353.0"
        ],
        [
         "2201",
         "2004-10-01 19:00:00",
         "15034.0"
        ],
        [
         "2202",
         "2004-10-01 20:00:00",
         "15211.0"
        ],
        [
         "2203",
         "2004-10-01 21:00:00",
         "15349.0"
        ],
        [
         "2204",
         "2004-10-01 22:00:00",
         "14837.0"
        ],
        [
         "2205",
         "2004-10-01 23:00:00",
         "14067.0"
        ],
        [
         "2206",
         "2004-10-02 00:00:00",
         "13147.0"
        ],
        [
         "2159",
         "2004-10-02 01:00:00",
         "12260.0"
        ],
        [
         "2160",
         "2004-10-02 02:00:00",
         "11672.0"
        ],
        [
         "2161",
         "2004-10-02 03:00:00",
         "11352.0"
        ],
        [
         "2162",
         "2004-10-02 04:00:00",
         "11177.0"
        ],
        [
         "2163",
         "2004-10-02 05:00:00",
         "11142.0"
        ],
        [
         "2164",
         "2004-10-02 06:00:00",
         "11331.0"
        ],
        [
         "2165",
         "2004-10-02 07:00:00",
         "11866.0"
        ],
        [
         "2166",
         "2004-10-02 08:00:00",
         "12387.0"
        ],
        [
         "2167",
         "2004-10-02 09:00:00",
         "13144.0"
        ],
        [
         "2168",
         "2004-10-02 10:00:00",
         "13712.0"
        ],
        [
         "2169",
         "2004-10-02 11:00:00",
         "14082.0"
        ],
        [
         "2170",
         "2004-10-02 12:00:00",
         "14080.0"
        ],
        [
         "2171",
         "2004-10-02 13:00:00",
         "14056.0"
        ],
        [
         "2172",
         "2004-10-02 14:00:00",
         "13934.0"
        ],
        [
         "2173",
         "2004-10-02 15:00:00",
         "13758.0"
        ],
        [
         "2174",
         "2004-10-02 16:00:00",
         "13579.0"
        ],
        [
         "2175",
         "2004-10-02 17:00:00",
         "13620.0"
        ],
        [
         "2176",
         "2004-10-02 18:00:00",
         "13483.0"
        ],
        [
         "2177",
         "2004-10-02 19:00:00",
         "13379.0"
        ],
        [
         "2178",
         "2004-10-02 20:00:00",
         "13825.0"
        ],
        [
         "2179",
         "2004-10-02 21:00:00",
         "14056.0"
        ],
        [
         "2180",
         "2004-10-02 22:00:00",
         "14015.0"
        ],
        [
         "2181",
         "2004-10-02 23:00:00",
         "12940.0"
        ],
        [
         "2182",
         "2004-10-03 00:00:00",
         "12172.0"
        ],
        [
         "2135",
         "2004-10-03 01:00:00",
         "11443.0"
        ],
        [
         "2136",
         "2004-10-03 02:00:00",
         "10807.0"
        ]
       ],
       "shape": {
        "columns": 2,
        "rows": 2206
       }
      },
      "text/html": [
       "<div>\n",
       "<style scoped>\n",
       "    .dataframe tbody tr th:only-of-type {\n",
       "        vertical-align: middle;\n",
       "    }\n",
       "\n",
       "    .dataframe tbody tr th {\n",
       "        vertical-align: top;\n",
       "    }\n",
       "\n",
       "    .dataframe thead th {\n",
       "        text-align: right;\n",
       "    }\n",
       "</style>\n",
       "<table border=\"1\" class=\"dataframe\">\n",
       "  <thead>\n",
       "    <tr style=\"text-align: right;\">\n",
       "      <th></th>\n",
       "      <th>Datetime</th>\n",
       "      <th>AEP_MW</th>\n",
       "    </tr>\n",
       "  </thead>\n",
       "  <tbody>\n",
       "    <tr>\n",
       "      <th>2183</th>\n",
       "      <td>2004-10-01 01:00:00</td>\n",
       "      <td>12379.0</td>\n",
       "    </tr>\n",
       "    <tr>\n",
       "      <th>2184</th>\n",
       "      <td>2004-10-01 02:00:00</td>\n",
       "      <td>11935.0</td>\n",
       "    </tr>\n",
       "    <tr>\n",
       "      <th>2185</th>\n",
       "      <td>2004-10-01 03:00:00</td>\n",
       "      <td>11692.0</td>\n",
       "    </tr>\n",
       "    <tr>\n",
       "      <th>2186</th>\n",
       "      <td>2004-10-01 04:00:00</td>\n",
       "      <td>11597.0</td>\n",
       "    </tr>\n",
       "    <tr>\n",
       "      <th>2187</th>\n",
       "      <td>2004-10-01 05:00:00</td>\n",
       "      <td>11681.0</td>\n",
       "    </tr>\n",
       "    <tr>\n",
       "      <th>...</th>\n",
       "      <td>...</td>\n",
       "      <td>...</td>\n",
       "    </tr>\n",
       "    <tr>\n",
       "      <th>18</th>\n",
       "      <td>2004-12-31 19:00:00</td>\n",
       "      <td>15261.0</td>\n",
       "    </tr>\n",
       "    <tr>\n",
       "      <th>19</th>\n",
       "      <td>2004-12-31 20:00:00</td>\n",
       "      <td>14774.0</td>\n",
       "    </tr>\n",
       "    <tr>\n",
       "      <th>20</th>\n",
       "      <td>2004-12-31 21:00:00</td>\n",
       "      <td>14363.0</td>\n",
       "    </tr>\n",
       "    <tr>\n",
       "      <th>21</th>\n",
       "      <td>2004-12-31 22:00:00</td>\n",
       "      <td>14045.0</td>\n",
       "    </tr>\n",
       "    <tr>\n",
       "      <th>22</th>\n",
       "      <td>2004-12-31 23:00:00</td>\n",
       "      <td>13478.0</td>\n",
       "    </tr>\n",
       "  </tbody>\n",
       "</table>\n",
       "<p>2206 rows × 2 columns</p>\n",
       "</div>"
      ],
      "text/plain": [
       "                Datetime   AEP_MW\n",
       "2183 2004-10-01 01:00:00  12379.0\n",
       "2184 2004-10-01 02:00:00  11935.0\n",
       "2185 2004-10-01 03:00:00  11692.0\n",
       "2186 2004-10-01 04:00:00  11597.0\n",
       "2187 2004-10-01 05:00:00  11681.0\n",
       "...                  ...      ...\n",
       "18   2004-12-31 19:00:00  15261.0\n",
       "19   2004-12-31 20:00:00  14774.0\n",
       "20   2004-12-31 21:00:00  14363.0\n",
       "21   2004-12-31 22:00:00  14045.0\n",
       "22   2004-12-31 23:00:00  13478.0\n",
       "\n",
       "[2206 rows x 2 columns]"
      ]
     },
     "metadata": {},
     "output_type": "display_data"
    },
    {
     "name": "stdout",
     "output_type": "stream",
     "text": [
      "(2206, 2)\n"
     ]
    }
   ],
   "source": [
    "display(df_2004)\n",
    "print(df_2004.shape)"
   ]
  },
  {
   "cell_type": "code",
   "execution_count": 63,
   "id": "802d3755",
   "metadata": {},
   "outputs": [
    {
     "data": {
      "image/png": "[encoded data removed]",
      "text/plain": [
       "<Figure size 1500x500 with 2 Axes>"
      ]
     },
     "metadata": {},
     "output_type": "display_data"
    }
   ],
   "source": [
    "fig, (ax1, ax2) = plt.subplots(1, 2, figsize=(15,5))\n",
    "\n",
    "# Série temporal\n",
    "sns.lineplot(data=df_2004, x='Datetime', y='AEP_MW', ax=ax1)\n",
    "ax1.tick_params(axis='x', rotation=45)\n",
    "ax1.set_title('Série Temporal AEP_MW - 2004')\n",
    "\n",
    "# Histograma com KDE\n",
    "sns.histplot(data=df_2004, x='AEP_MW', kde=True, ax=ax2)\n",
    "ax2.set_title('Distribuição de AEP_MW - 2004')\n",
    "\n",
    "plt.tight_layout()\n",
    "\n",
    "# Slavar na pasta reports/figures\n",
    "# Garantir que a pasta existe\n",
    "figures_path = Path(\"../reports/figures\")  # \"..\" sobe um nível para o root do projeto\n",
    "figures_path.mkdir(parents=True, exist_ok=True)  # garante que exista\n",
    "fig.savefig(figures_path/\"eda_2004.png\", dpi=300)\n",
    "\n",
    "plt.show()"
   ]
  },
  {
   "cell_type": "markdown",
   "id": "fc7054cb",
   "metadata": {},
   "source": [
    "# 2005"
   ]
  },
  {
   "cell_type": "code",
   "execution_count": 75,
   "id": "6c38a640",
   "metadata": {},
   "outputs": [],
   "source": [
    "start_date_2005 = '2005-01-01 00:00:00'\n",
    "end_date_2005 = '2005-12-31 23:00:00'\n",
    "df_2005 = df_date[(df_date['Datetime'] >= start_date_2005) & (df_date['Datetime'] \n",
    "                    <= end_date_2005)].copy()\n",
    "\n",
    "# Salvar o DataFrame completo ajustado\n",
    "data_path = Path(\"../data/processed\")  # \"..\" sobe um nível para o root do projeto\n",
    "# Garantir que a pasta processed exista\n",
    "os.makedirs(data_path, exist_ok=True)\n",
    "df_2005.to_csv(data_path/\"AEP_2005.csv\", index=False)"
   ]
  },
  {
   "cell_type": "code",
   "execution_count": 44,
   "id": "1d453ece",
   "metadata": {},
   "outputs": [
    {
     "data": {
      "application/vnd.microsoft.datawrangler.viewer.v0+json": {
       "columns": [
        {
         "name": "index",
         "rawType": "int64",
         "type": "integer"
        },
        {
         "name": "Datetime",
         "rawType": "datetime64[ns]",
         "type": "datetime"
        },
        {
         "name": "AEP_MW",
         "rawType": "float64",
         "type": "float"
        }
       ],
       "ref": "03f18e0a-083d-4c0d-b7c7-88d79aab17c6",
       "rows": [
        [
         "23",
         "2005-01-01 00:00:00",
         "12892.0"
        ],
        [
         "10941",
         "2005-01-01 01:00:00",
         "12316.0"
        ],
        [
         "10942",
         "2005-01-01 02:00:00",
         "11890.0"
        ],
        [
         "10943",
         "2005-01-01 03:00:00",
         "11579.0"
        ],
        [
         "10944",
         "2005-01-01 04:00:00",
         "11461.0"
        ],
        [
         "10945",
         "2005-01-01 05:00:00",
         "11472.0"
        ],
        [
         "10946",
         "2005-01-01 06:00:00",
         "11571.0"
        ],
        [
         "10947",
         "2005-01-01 07:00:00",
         "11898.0"
        ],
        [
         "10948",
         "2005-01-01 08:00:00",
         "12209.0"
        ],
        [
         "10949",
         "2005-01-01 09:00:00",
         "12396.0"
        ],
        [
         "10950",
         "2005-01-01 10:00:00",
         "12997.0"
        ],
        [
         "10951",
         "2005-01-01 11:00:00",
         "13455.0"
        ],
        [
         "10952",
         "2005-01-01 12:00:00",
         "13617.0"
        ],
        [
         "10953",
         "2005-01-01 13:00:00",
         "13665.0"
        ],
        [
         "10954",
         "2005-01-01 14:00:00",
         "13446.0"
        ],
        [
         "10955",
         "2005-01-01 15:00:00",
         "13340.0"
        ],
        [
         "10956",
         "2005-01-01 16:00:00",
         "13159.0"
        ],
        [
         "10957",
         "2005-01-01 17:00:00",
         "13449.0"
        ],
        [
         "10958",
         "2005-01-01 18:00:00",
         "14319.0"
        ],
        [
         "10959",
         "2005-01-01 19:00:00",
         "14536.0"
        ],
        [
         "10960",
         "2005-01-01 20:00:00",
         "14454.0"
        ],
        [
         "10961",
         "2005-01-01 21:00:00",
         "14248.0"
        ],
        [
         "10962",
         "2005-01-01 22:00:00",
         "13970.0"
        ],
        [
         "10963",
         "2005-01-01 23:00:00",
         "13558.0"
        ],
        [
         "10964",
         "2005-01-02 00:00:00",
         "12849.0"
        ],
        [
         "10917",
         "2005-01-02 01:00:00",
         "12291.0"
        ],
        [
         "10918",
         "2005-01-02 02:00:00",
         "11917.0"
        ],
        [
         "10919",
         "2005-01-02 03:00:00",
         "11681.0"
        ],
        [
         "10920",
         "2005-01-02 04:00:00",
         "11613.0"
        ],
        [
         "10921",
         "2005-01-02 05:00:00",
         "11685.0"
        ],
        [
         "10922",
         "2005-01-02 06:00:00",
         "11936.0"
        ],
        [
         "10923",
         "2005-01-02 07:00:00",
         "12342.0"
        ],
        [
         "10924",
         "2005-01-02 08:00:00",
         "12986.0"
        ],
        [
         "10925",
         "2005-01-02 09:00:00",
         "13485.0"
        ],
        [
         "10926",
         "2005-01-02 10:00:00",
         "13909.0"
        ],
        [
         "10927",
         "2005-01-02 11:00:00",
         "13840.0"
        ],
        [
         "10928",
         "2005-01-02 12:00:00",
         "13914.0"
        ],
        [
         "10929",
         "2005-01-02 13:00:00",
         "13991.0"
        ],
        [
         "10930",
         "2005-01-02 14:00:00",
         "13885.0"
        ],
        [
         "10931",
         "2005-01-02 15:00:00",
         "13818.0"
        ],
        [
         "10932",
         "2005-01-02 16:00:00",
         "13695.0"
        ],
        [
         "10933",
         "2005-01-02 17:00:00",
         "14026.0"
        ],
        [
         "10934",
         "2005-01-02 18:00:00",
         "15073.0"
        ],
        [
         "10935",
         "2005-01-02 19:00:00",
         "15269.0"
        ],
        [
         "10936",
         "2005-01-02 20:00:00",
         "15265.0"
        ],
        [
         "10937",
         "2005-01-02 21:00:00",
         "14916.0"
        ],
        [
         "10938",
         "2005-01-02 22:00:00",
         "14521.0"
        ],
        [
         "10939",
         "2005-01-02 23:00:00",
         "13805.0"
        ],
        [
         "10940",
         "2005-01-03 00:00:00",
         "13080.0"
        ],
        [
         "10893",
         "2005-01-03 01:00:00",
         "12566.0"
        ]
       ],
       "shape": {
        "columns": 2,
        "rows": 8758
       }
      },
      "text/html": [
       "<div>\n",
       "<style scoped>\n",
       "    .dataframe tbody tr th:only-of-type {\n",
       "        vertical-align: middle;\n",
       "    }\n",
       "\n",
       "    .dataframe tbody tr th {\n",
       "        vertical-align: top;\n",
       "    }\n",
       "\n",
       "    .dataframe thead th {\n",
       "        text-align: right;\n",
       "    }\n",
       "</style>\n",
       "<table border=\"1\" class=\"dataframe\">\n",
       "  <thead>\n",
       "    <tr style=\"text-align: right;\">\n",
       "      <th></th>\n",
       "      <th>Datetime</th>\n",
       "      <th>AEP_MW</th>\n",
       "    </tr>\n",
       "  </thead>\n",
       "  <tbody>\n",
       "    <tr>\n",
       "      <th>23</th>\n",
       "      <td>2005-01-01 00:00:00</td>\n",
       "      <td>12892.0</td>\n",
       "    </tr>\n",
       "    <tr>\n",
       "      <th>10941</th>\n",
       "      <td>2005-01-01 01:00:00</td>\n",
       "      <td>12316.0</td>\n",
       "    </tr>\n",
       "    <tr>\n",
       "      <th>10942</th>\n",
       "      <td>2005-01-01 02:00:00</td>\n",
       "      <td>11890.0</td>\n",
       "    </tr>\n",
       "    <tr>\n",
       "      <th>10943</th>\n",
       "      <td>2005-01-01 03:00:00</td>\n",
       "      <td>11579.0</td>\n",
       "    </tr>\n",
       "    <tr>\n",
       "      <th>10944</th>\n",
       "      <td>2005-01-01 04:00:00</td>\n",
       "      <td>11461.0</td>\n",
       "    </tr>\n",
       "    <tr>\n",
       "      <th>...</th>\n",
       "      <td>...</td>\n",
       "      <td>...</td>\n",
       "    </tr>\n",
       "    <tr>\n",
       "      <th>2225</th>\n",
       "      <td>2005-12-31 19:00:00</td>\n",
       "      <td>16462.0</td>\n",
       "    </tr>\n",
       "    <tr>\n",
       "      <th>2226</th>\n",
       "      <td>2005-12-31 20:00:00</td>\n",
       "      <td>16024.0</td>\n",
       "    </tr>\n",
       "    <tr>\n",
       "      <th>2227</th>\n",
       "      <td>2005-12-31 21:00:00</td>\n",
       "      <td>15722.0</td>\n",
       "    </tr>\n",
       "    <tr>\n",
       "      <th>2228</th>\n",
       "      <td>2005-12-31 22:00:00</td>\n",
       "      <td>15264.0</td>\n",
       "    </tr>\n",
       "    <tr>\n",
       "      <th>2229</th>\n",
       "      <td>2005-12-31 23:00:00</td>\n",
       "      <td>14921.0</td>\n",
       "    </tr>\n",
       "  </tbody>\n",
       "</table>\n",
       "<p>8758 rows × 2 columns</p>\n",
       "</div>"
      ],
      "text/plain": [
       "                 Datetime   AEP_MW\n",
       "23    2005-01-01 00:00:00  12892.0\n",
       "10941 2005-01-01 01:00:00  12316.0\n",
       "10942 2005-01-01 02:00:00  11890.0\n",
       "10943 2005-01-01 03:00:00  11579.0\n",
       "10944 2005-01-01 04:00:00  11461.0\n",
       "...                   ...      ...\n",
       "2225  2005-12-31 19:00:00  16462.0\n",
       "2226  2005-12-31 20:00:00  16024.0\n",
       "2227  2005-12-31 21:00:00  15722.0\n",
       "2228  2005-12-31 22:00:00  15264.0\n",
       "2229  2005-12-31 23:00:00  14921.0\n",
       "\n",
       "[8758 rows x 2 columns]"
      ]
     },
     "metadata": {},
     "output_type": "display_data"
    },
    {
     "name": "stdout",
     "output_type": "stream",
     "text": [
      "(8758, 2)\n"
     ]
    }
   ],
   "source": [
    "display(df_2005)\n",
    "print(df_2005.shape)"
   ]
  },
  {
   "cell_type": "code",
   "execution_count": 64,
   "id": "140233ba",
   "metadata": {},
   "outputs": [
    {
     "data": {
      "image/png": "[encoded data removed]",
      "text/plain": [
       "<Figure size 1500x500 with 2 Axes>"
      ]
     },
     "metadata": {},
     "output_type": "display_data"
    }
   ],
   "source": [
    "fig, (ax1, ax2) = plt.subplots(1, 2, figsize=(15,5))\n",
    "\n",
    "# Série temporal\n",
    "sns.lineplot(data=df_2005, x='Datetime', y='AEP_MW', ax=ax1)\n",
    "ax1.tick_params(axis='x', rotation=45)\n",
    "ax1.set_title('Série Temporal AEP_MW - 2005')\n",
    "\n",
    "# Histograma com KDE\n",
    "sns.histplot(data=df_2005, x='AEP_MW', kde=True, ax=ax2)\n",
    "ax2.set_title('Distribuição de AEP_MW - 2005')\n",
    "\n",
    "plt.tight_layout()\n",
    "\n",
    "# Slavar na pasta reports/figures\n",
    "# Garantir que a pasta existe\n",
    "figures_path = Path(\"../reports/figures\")  # \"..\" sobe um nível para o root do projeto\n",
    "figures_path.mkdir(parents=True, exist_ok=True)  # garante que exista\n",
    "fig.savefig(figures_path/\"eda_2005.png\", dpi=300)\n",
    "\n",
    "plt.show()"
   ]
  },
  {
   "cell_type": "markdown",
   "id": "04eeba71",
   "metadata": {},
   "source": [
    "# 2006"
   ]
  },
  {
   "cell_type": "code",
   "execution_count": null,
   "id": "1a9df305",
   "metadata": {},
   "outputs": [],
   "source": []
  }
 ],
 "metadata": {
  "kernelspec": {
   "display_name": ".conda",
   "language": "python",
   "name": "python3"
  },
  "language_info": {
   "codemirror_mode": {
    "name": "ipython",
    "version": 3
   },
   "file_extension": ".py",
   "mimetype": "text/x-python",
   "name": "python",
   "nbconvert_exporter": "python",
   "pygments_lexer": "ipython3",
   "version": "3.10.19"
  }
 },
 "nbformat": 4,
 "nbformat_minor": 5
}
